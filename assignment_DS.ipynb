{
  "cells": [
    {
      "cell_type": "markdown",
      "metadata": {
        "id": "2MHv8OwxB6SB"
      },
      "source": [
        "# Data Science & Algorithm"
      ]
    },
    {
      "cell_type": "markdown",
      "metadata": {
        "id": "N2ZQZm1sB6SG"
      },
      "source": [
        "# Assignment-1"
      ]
    },
    {
      "cell_type": "code",
      "execution_count": null,
      "metadata": {
        "id": "ezwDwLuEB6SH"
      },
      "outputs": [],
      "source": [
        "import array\n",
        "from array import *"
      ]
    },
    {
      "cell_type": "code",
      "execution_count": null,
      "metadata": {
        "id": "6KBNeBd8B6SI"
      },
      "outputs": [],
      "source": [
        "##Q1 array operation:\n",
        "import array\n",
        "from array import *\n"
      ]
    },
    {
      "cell_type": "code",
      "execution_count": null,
      "metadata": {
        "id": "2kzMcmJLB6SI",
        "outputId": "1921cf05-84fc-418b-c215-33f5e306fede"
      },
      "outputs": [
        {
          "name": "stdout",
          "output_type": "stream",
          "text": [
            "array('i', [1, 2, 3, 4, 5, 6, 7, 8, 9, 10])\n"
          ]
        }
      ],
      "source": [
        "#Q:(a)\n",
        "number=array('i',[1,2,3,4,5,6,7,8,9,10])\n",
        "print(number)"
      ]
    },
    {
      "cell_type": "code",
      "execution_count": null,
      "metadata": {
        "id": "hW-5mfyJB6SK",
        "outputId": "2d201936-a313-4848-f3b7-c9463316f320"
      },
      "outputs": [
        {
          "name": "stdout",
          "output_type": "stream",
          "text": [
            "sum of all no. in array 55\n"
          ]
        }
      ],
      "source": [
        "#Q:(b)\n",
        "number=[1,2,3,4,5,6,7,8,9,10]\n",
        "sum=0\n",
        "for i in range(0,len(number)):\n",
        "    sum=sum+number[i]\n",
        "print('sum of all no. in array',sum)"
      ]
    },
    {
      "cell_type": "code",
      "execution_count": null,
      "metadata": {
        "id": "g3DlC9xsB6SK",
        "outputId": "cd2dc409-b475-4d4c-f0a2-31b23d1adcd3"
      },
      "outputs": [
        {
          "name": "stdout",
          "output_type": "stream",
          "text": [
            "average of all no. in array 5.5\n"
          ]
        }
      ],
      "source": [
        "#Q:(C)\n",
        "number=[1,2,3,4,5,6,7,8,9,10]\n",
        "sum=0\n",
        "for i in range(0,len(number)):\n",
        "    sum=sum+number[i]\n",
        "    average=sum/len(number)\n",
        "print('average of all no. in array',average)"
      ]
    },
    {
      "cell_type": "code",
      "execution_count": null,
      "metadata": {
        "id": "Pc4AoZFcB6SL",
        "outputId": "1315fdb6-703b-4477-c29b-d197f9eccc3b"
      },
      "outputs": [
        {
          "name": "stdout",
          "output_type": "stream",
          "text": [
            "maximum number in array: 10\n",
            "minimum number in array: 1\n"
          ]
        }
      ],
      "source": [
        "print(\"maximum number in array:\",max(number))\n",
        "print(\"minimum number in array:\",min(number))"
      ]
    },
    {
      "cell_type": "markdown",
      "metadata": {
        "id": "k4QJ92YtB6SM"
      },
      "source": [
        "# Q2 array manipulation"
      ]
    },
    {
      "cell_type": "code",
      "execution_count": null,
      "metadata": {
        "id": "DpIot1pmB6SM",
        "outputId": "5b8ea341-2550-4389-d54d-bde4e1cf3fde"
      },
      "outputs": [
        {
          "name": "stdout",
          "output_type": "stream",
          "text": [
            "['sharim', 'pranav', 'tanzeem', 'osama', 'danish', 'junaid', 'zayn', 'ali']\n"
          ]
        }
      ],
      "source": [
        "#Q:(a)\n",
        "name=['sharim','pranav','tanzeem','osama','danish','junaid','zayn','ali']\n",
        "print(name)"
      ]
    },
    {
      "cell_type": "code",
      "execution_count": null,
      "metadata": {
        "id": "W-EOdDaDB6SM",
        "outputId": "43a4c515-5e42-49aa-9611-24a1aa948e94"
      },
      "outputs": [
        {
          "name": "stdout",
          "output_type": "stream",
          "text": [
            "['sharim', 'pranav', 'tanzeem', 'osama', 'danish', 'junaid', 'zayn', 'ali', 'raza', 'raza']\n",
            "['sharim', 'pranav', 'tanzeem', 'osama', 'danish', 'junaid', 'zayn', 'ali', 'raza', 'raza', 'saqib']\n"
          ]
        }
      ],
      "source": [
        "#Q:(b)\n",
        "name.append('raza')\n",
        "print(name)\n",
        "name.append('saqib')\n",
        "print(name)"
      ]
    },
    {
      "cell_type": "code",
      "execution_count": null,
      "metadata": {
        "id": "OXUt1Z3rB6SN",
        "outputId": "d09722fb-5957-494b-d9e7-3466698148fc"
      },
      "outputs": [
        {
          "name": "stdout",
          "output_type": "stream",
          "text": [
            "['sharim', 'pranav', 'tanzeem', 'osama', 'danish', 'junaid', 'zayn', 'ali', 'raza', 'raza', 'saqib']\n"
          ]
        }
      ],
      "source": [
        "print(name)"
      ]
    },
    {
      "cell_type": "code",
      "execution_count": null,
      "metadata": {
        "id": "91OivY8uB6SN",
        "outputId": "74ceb560-fb17-4720-9d6f-6ed7fee611e5"
      },
      "outputs": [
        {
          "name": "stdout",
          "output_type": "stream",
          "text": [
            "['sharim', 'pranav', 'tanzeem', 'mahid', 'danish', 'junaid', 'zayn', 'ali', 'raza', 'raza', 'saqib']\n"
          ]
        }
      ],
      "source": [
        "#Q:(c)\n",
        "name[3]='mahid'\n",
        "print(name)"
      ]
    },
    {
      "cell_type": "code",
      "execution_count": null,
      "metadata": {
        "id": "2zByYwxtB6SO",
        "outputId": "0109a5bf-2ed9-4ab7-de5b-81fe77616a5e"
      },
      "outputs": [
        {
          "name": "stdout",
          "output_type": "stream",
          "text": [
            "['sharim', 'pranav', 'tanzeem', 'mahid', 'danish', 'junaid', 'zayn', 'ali', 'raza', 'raza']\n"
          ]
        }
      ],
      "source": [
        "#Q:(d)\n",
        "name.remove('saqib')\n",
        "print(name)"
      ]
    },
    {
      "cell_type": "code",
      "execution_count": null,
      "metadata": {
        "id": "3WrjsR_PB6SO",
        "outputId": "ff131824-81cc-41fe-ab32-1c2b1d8ae361"
      },
      "outputs": [
        {
          "name": "stdout",
          "output_type": "stream",
          "text": [
            "display the final array of names: ['sharim', 'pranav', 'tanzeem', 'mahid', 'danish', 'junaid', 'zayn', 'ali', 'raza', 'raza']\n"
          ]
        }
      ],
      "source": [
        "#Q:(e)\n",
        "print(\"display the final array of names:\",name)"
      ]
    },
    {
      "cell_type": "markdown",
      "metadata": {
        "id": "w6vR5wztB6SO"
      },
      "source": [
        "# Q3 searching in arrays"
      ]
    },
    {
      "cell_type": "code",
      "execution_count": null,
      "metadata": {
        "id": "Q_gSFkgcB6SP",
        "outputId": "9d2e1df8-684d-497b-bf90-54417349c5da"
      },
      "outputs": [
        {
          "name": "stdout",
          "output_type": "stream",
          "text": [
            "array('i', [45, 21, 25, 85, 65, 47, 23, 20, 10, 25, 34, 95, 35, 45, 65])\n"
          ]
        }
      ],
      "source": [
        "#Q:(a)\n",
        "arr=array('i',[45,21,25,85,65,47,23,20,10,25,34,95,35,45,65,])\n",
        "print(arr)"
      ]
    },
    {
      "cell_type": "code",
      "execution_count": null,
      "metadata": {
        "id": "3uNDNyGHB6SP",
        "outputId": "7d7ed5d7-3cc1-4af3-999d-157c08f94489"
      },
      "outputs": [
        {
          "name": "stdout",
          "output_type": "stream",
          "text": [
            "15\n"
          ]
        }
      ],
      "source": [
        "print(len(arr))"
      ]
    },
    {
      "cell_type": "code",
      "execution_count": null,
      "metadata": {
        "id": "trlkBZtXB6SP",
        "outputId": "827785df-432b-4600-d192-92affa666206"
      },
      "outputs": [
        {
          "name": "stdout",
          "output_type": "stream",
          "text": [
            "enter the number to check the value in array:45\n",
            "True\n"
          ]
        }
      ],
      "source": [
        "#Q:(b)\n",
        "n=int(input('enter the number to check the value in array:'))\n",
        "print(n in arr)\n",
        ""
      ]
    },
    {
      "cell_type": "code",
      "execution_count": null,
      "metadata": {
        "id": "JJf8ogHZB6SQ",
        "outputId": "30cfab60-d9e3-4427-9e4e-639e2cc8dd13"
      },
      "outputs": [
        {
          "name": "stdout",
          "output_type": "stream",
          "text": [
            "enter the number5\n",
            "not present\n"
          ]
        }
      ],
      "source": [
        "#Q:(c)\n",
        "\n",
        "n=int(input(\"enter the number\"))\n",
        "if n in arr:\n",
        "    print('present number')\n",
        "else:\n",
        "    print('not present')"
      ]
    },
    {
      "cell_type": "markdown",
      "metadata": {
        "id": "98I6uzZPB6SQ"
      },
      "source": [
        "# Q4array sorting"
      ]
    },
    {
      "cell_type": "code",
      "execution_count": null,
      "metadata": {
        "id": "rrpCJD3PB6SQ",
        "outputId": "cdfcb288-8b79-435d-f5a2-b2aed76d6026"
      },
      "outputs": [
        {
          "name": "stdout",
          "output_type": "stream",
          "text": [
            "array('i', [12, 32, 25, 45, 75, 63, 25, 58, 52, 69, 67, 87])\n"
          ]
        }
      ],
      "source": [
        "#Q:(a)\n",
        "a=array('i',[12,32,25,45,75,63,25,58,52,69,67,87])\n",
        "print(a)"
      ]
    },
    {
      "cell_type": "code",
      "execution_count": null,
      "metadata": {
        "id": "vct2b1EtB6SQ",
        "outputId": "93116636-29f9-41b4-afb3-6530e92d6164"
      },
      "outputs": [
        {
          "name": "stdout",
          "output_type": "stream",
          "text": [
            "array('i', [87, 67, 69, 52, 58, 25, 63, 75, 45, 25, 32, 12])\n"
          ]
        }
      ],
      "source": [
        "#Q:(b)\n",
        "a.reverse()\n",
        "print(a)"
      ]
    },
    {
      "cell_type": "code",
      "execution_count": null,
      "metadata": {
        "id": "HG1TlbYhB6SR",
        "outputId": "a8fe2f76-9d6c-4efc-99e0-237ce4c99a9c"
      },
      "outputs": [
        {
          "name": "stdout",
          "output_type": "stream",
          "text": [
            "part1 array('i', [12, 32, 25, 45, 75, 63])\n",
            "part2 array('i', [25, 58, 52, 69, 67, 87])\n"
          ]
        }
      ],
      "source": [
        "#Q:(c)\n",
        "def divide(arr):\n",
        "    l=len(arr)//2\n",
        "    part1=arr[:l]\n",
        "    part2=arr[l:]\n",
        "    print('part1',part1)\n",
        "    print('part2',part2)\n",
        "\n",
        "arr=array('i',[12,32,25,45,75,63,25,58,52,69,67,87])\n",
        "divide(arr)"
      ]
    },
    {
      "cell_type": "code",
      "execution_count": null,
      "metadata": {
        "id": "8L4MSTSlB6SR"
      },
      "outputs": [],
      "source": []
    },
    {
      "cell_type": "code",
      "execution_count": null,
      "metadata": {
        "id": "R6LSx0HTB6SR"
      },
      "outputs": [],
      "source": []
    }
  ],
  "metadata": {
    "kernelspec": {
      "display_name": "Python 3",
      "language": "python",
      "name": "python3"
    },
    "language_info": {
      "codemirror_mode": {
        "name": "ipython",
        "version": 3
      },
      "file_extension": ".py",
      "mimetype": "text/x-python",
      "name": "python",
      "nbconvert_exporter": "python",
      "pygments_lexer": "ipython3",
      "version": "3.8.5"
    },
    "colab": {
      "provenance": []
    }
  },
  "nbformat": 4,
  "nbformat_minor": 0
}